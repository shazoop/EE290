{
  "nbformat": 4,
  "nbformat_minor": 0,
  "metadata": {
    "colab": {
      "name": "Spectrum_Sensing1.ipynb",
      "provenance": [],
      "collapsed_sections": [],
      "include_colab_link": true
    },
    "kernelspec": {
      "name": "python3",
      "display_name": "Python 3"
    }
  },
  "cells": [
    {
      "cell_type": "markdown",
      "metadata": {
        "id": "view-in-github",
        "colab_type": "text"
      },
      "source": [
        "<a href=\"https://colab.research.google.com/github/shazoop/EE290/blob/master/Spectrum_Sensing1.ipynb\" target=\"_parent\"><img src=\"https://colab.research.google.com/assets/colab-badge.svg\" alt=\"Open In Colab\"/></a>"
      ]
    },
    {
      "cell_type": "markdown",
      "metadata": {
        "id": "hO9iWjs-Be25",
        "colab_type": "text"
      },
      "source": [
        "# Spectrum Sensing (Sparsity)"
      ]
    },
    {
      "cell_type": "markdown",
      "metadata": {
        "id": "9WQTZT91Bnmu",
        "colab_type": "text"
      },
      "source": [
        "## Looking Ahead\n",
        "\n",
        "In this series of examples, we are going to explore the use of compressive sensing for spectrum sensing in a simulated frequency-multiplexed channel sharing scheme. This first notebook will facilitate our exploration of the spectral content of simulated data from such a scheme, and expose the underlying sparsity of the frequency spectrum, which will make compressive sensing techniques applicable in later notebooks.\n",
        "\n",
        "The precise nature of the model frequency-multiplexed transmission scheme is described in the homework. Here, we will load the simulated data from a file, remind ourselves of some points germane to working with RF signals, and then finally examine the frequency sparsity of the data."
      ]
    },
    {
      "cell_type": "markdown",
      "metadata": {
        "id": "S4cjQY0ZBoeI",
        "colab_type": "text"
      },
      "source": [
        "## Downloading the Data\n",
        "\n",
        "We download the data file from my Github page. The file is `ss_signal.mat`."
      ]
    },
    {
      "cell_type": "code",
      "metadata": {
        "id": "rEGVdXY8Bap4",
        "colab_type": "code",
        "colab": {}
      },
      "source": [
        "!git clone https://github.com/hwagyesa/ss_data.git"
      ],
      "execution_count": 0,
      "outputs": []
    },
    {
      "cell_type": "markdown",
      "metadata": {
        "id": "14tOAql2BAEX",
        "colab_type": "text"
      },
      "source": [
        "## Loading and Understanding the Data\n",
        "\n",
        "Next, we load the signal and the provided parameters into memory, and look at the available keys."
      ]
    },
    {
      "cell_type": "code",
      "metadata": {
        "id": "2zBapy9YBGUg",
        "colab_type": "code",
        "colab": {}
      },
      "source": [
        "import scipy.io as sio\n",
        "import numpy as np\n",
        "import bokeh.plotting as bpl\n",
        "import pprint\n",
        "\n",
        "D = sio.loadmat('/content/ss_data/ss_signal.mat', squeeze_me=True)\n",
        "D_short = {k: v for k, v in D.items() if not k.startswith('_')}\n",
        "pp = pprint.PrettyPrinter(indent=4)\n",
        "pp.pprint(D_short)"
      ],
      "execution_count": 0,
      "outputs": []
    },
    {
      "cell_type": "markdown",
      "metadata": {
        "id": "DFyEHHgrJZ5M",
        "colab_type": "text"
      },
      "source": [
        "Here is a description of the contained parameters:\n",
        "- `x`: The frequency-multiplexed channel's voltage signal. All subsequent parameters relate to different aspects of this signal.\n",
        "- `SNR`: The signal-to-noise ratio of `x`, measured in decibels. Here we again emphasize that `x` is a voltage signal, and that we have added i.i.d. Gaussian random variables to each sample bin to ensure the specified SNR is met.\n",
        "- `fmin`: The minimum frequency in the channel's allocated frequency band, measured in Hz.\n",
        "- `B`: The bandwidth of a single user's subband allocation (in frequency), measured in Hz. \n",
        "- `Nuser`: The number of users, or subbands, in the allocated frequency range. We have the relation `fmax - fmin = Nuser * B`, so we can derive the maximum band frequency `fmax` from the previous three parameters.\n",
        "- `fs`: The sampling frequency of the signal `x`, in Hz. Here we have used Nyquist-rate sampling, so `fs = 2 * fmax`.\n",
        "- `Nslots`: This is a time-transmission parameter, which tells us how many subsequent transmission slots the signal contains.\n",
        "- `slot_time`: Another time parameter that tells us the duration of a single transmission slot, measured in seconds. The total number of samples in `x` is thus equal to `fs * slot_time * Nslots`, and the total time duration of the signal is `slot_time * Nslots`."
      ]
    },
    {
      "cell_type": "markdown",
      "metadata": {
        "id": "eDYN177GTH0F",
        "colab_type": "text"
      },
      "source": [
        "Interpreting given the values above, we see that (for example) the slot bandwidth of our system is 100 kHz and the slot time is 1 ms, among other things."
      ]
    },
    {
      "cell_type": "markdown",
      "metadata": {
        "id": "jMDLK_oHMV3R",
        "colab_type": "text"
      },
      "source": [
        "### Derived Parameters\n",
        "\n",
        "We compute some of the derived parameters mentioned above in the code block below.\n"
      ]
    },
    {
      "cell_type": "code",
      "metadata": {
        "id": "8zlRjpHcMVPP",
        "colab_type": "code",
        "colab": {}
      },
      "source": [
        "## Move dictionary vars into locals\n",
        "B = D['B']\n",
        "Nslots = D['Nslots']\n",
        "Nuser = D['Nuser']\n",
        "SNR = D['SNR']\n",
        "fmin = D['fmin']\n",
        "fs = D['fs']\n",
        "slot_time = D['slot_time']\n",
        "x = D['x']\n",
        "\n",
        "## Derived parameters\n",
        "fmax = Nuser * B + fmin\n",
        "T = slot_time * Nslots\n",
        "Nsamp = len(x)\n",
        "slot_dur = Nsamp // Nslots"
      ],
      "execution_count": 0,
      "outputs": []
    },
    {
      "cell_type": "markdown",
      "metadata": {
        "id": "7o6NH8lvLFOw",
        "colab_type": "text"
      },
      "source": [
        "## Visualizing the Data\n",
        "\n",
        "Now that we have specified the meaning of the different signal parameters, we can plot the frequency content of different transmission intervals of `x`. First, we generate frequency and time vectors which have the proper physical interpretation in light of our parameter specifications above.\n",
        "\n",
        "In particular, our signal is sampled at the Nyquist rate, and so its (unrealizable) DTFT is `fs`-periodic, with no aliasing. This tells us what units to place on the frequency axis after we FFT the signal `x`. The time axis is similarly straightforward to determine.\n",
        "\n"
      ]
    },
    {
      "cell_type": "code",
      "metadata": {
        "id": "tfRCnRAqLcNZ",
        "colab_type": "code",
        "colab": {}
      },
      "source": [
        "## Time and frequency axes\n",
        "f_axis = fs * np.arange(-Nsamp/2+1, Nsamp/2+1)/Nsamp\n",
        "t_axis = Nslots * slot_time * np.arange(0, Nsamp)/Nsamp\n",
        "f_axis = np.squeeze(f_axis)\n",
        "t_axis = np.squeeze(t_axis)"
      ],
      "execution_count": 0,
      "outputs": []
    },
    {
      "cell_type": "code",
      "metadata": {
        "id": "9oCjp1OqNZ7J",
        "colab_type": "code",
        "colab": {}
      },
      "source": [
        "## Plot the time signal, over a single slot time\n",
        "bpl.output_notebook()\n",
        "h = bpl.figure(title=\"Time-domain signal x\")\n",
        "h.xaxis.axis_label = 'Time (ms)'\n",
        "h.yaxis.axis_label = 'Voltage (V)'\n",
        "h.line(t_axis[0:slot_dur]*1.0e3, x[0:slot_dur])\n",
        "bpl.show(h)"
      ],
      "execution_count": 0,
      "outputs": []
    },
    {
      "cell_type": "markdown",
      "metadata": {
        "id": "0rdWbqZRR9Wy",
        "colab_type": "text"
      },
      "source": [
        "This plot does not tell us much about the characteristics of the signal `x`, which is of course more naturally viewed in the frequency domain. We plot this next.\n",
        "\n",
        "**Note**: We use some tricks with the Fourier transform below, which you should make sure you understand. *First*, we use `fftshift` after calling `fft`: this is because the returned signal from `fft` represents the frequency content in the interval `[0, fs]`, whereas we are more used to having a DC-centered view of the frequency content, from `[-fs/2, fs/2]`. `fftshift` performs this adjustment by shuffling the array. *Second*, we also downsample the `f_axis` variable: this is because when we look at the frequency content in the first transmission slot, we have a shorter time duration to work with, so although the overall frequency band that we view is the same (we did not change the sampling frequency!), the frequency resolution becomes worse."
      ]
    },
    {
      "cell_type": "code",
      "metadata": {
        "id": "ElI3kqXdSEzb",
        "colab_type": "code",
        "colab": {}
      },
      "source": [
        "slot1_x = x[0:slot_dur]\n",
        "slot1_X = np.fft.fftshift(np.fft.fft(slot1_x))\n",
        "## We need to downsample the frequency axis to match the shorter slot time\n",
        "slot_f_axis = f_axis[::Nslots]\n",
        "\n",
        "## Make the plot\n",
        "bpl.output_notebook()\n",
        "h = bpl.figure(title=\"Frequency-domain signal x, during first slot\")\n",
        "h.xaxis.axis_label = 'Frequency (MHz)'\n",
        "h.yaxis.axis_label = 'Power (dB)'\n",
        "h.line(slot_f_axis * 1e-6, 20 * np.log10(np.absolute(slot1_X)))\n",
        "bpl.show(h)\n"
      ],
      "execution_count": 0,
      "outputs": []
    },
    {
      "cell_type": "markdown",
      "metadata": {
        "id": "WAaeKLtvURqI",
        "colab_type": "text"
      },
      "source": [
        "We see that the signal consists of just a few different transmitters during the first transmission slot. We can get a closer view by plotting just our frequency band of interest, over the positive frequency axis."
      ]
    },
    {
      "cell_type": "code",
      "metadata": {
        "id": "hA__9f8hViTq",
        "colab_type": "code",
        "colab": {}
      },
      "source": [
        "inband_mask = np.where((slot_f_axis >= fmin) & (slot_f_axis <= fmax))[0]\n",
        "\n",
        "bpl.output_notebook()\n",
        "h = bpl.figure(title=\"Frequency-domain signal x, during first slot (positive band-of-interest)\")\n",
        "h.xaxis.axis_label = 'Frequency (MHz)'\n",
        "h.yaxis.axis_label = 'Power (dB)'\n",
        "h.line(slot_f_axis[inband_mask] * 1e-6,\n",
        "       20 * np.log10(np.absolute(slot1_X[inband_mask])))\n",
        "bpl.show(h)"
      ],
      "execution_count": 0,
      "outputs": []
    },
    {
      "cell_type": "code",
      "metadata": {
        "id": "j38iUDuDIp1o",
        "colab_type": "code",
        "colab": {}
      },
      "source": [
        "slot2_x = x[slot_dur:2*slot_dur]\n",
        "slot2_X = np.fft.fftshift(np.fft.fft(slot2_x))\n",
        "## We need to downsample the frequency axis to match the shorter slot time\n",
        "## Make the plot\n",
        "bpl.output_notebook()\n",
        "h = bpl.figure(title=\"Frequency-domain signal x, during second slot\")\n",
        "h.xaxis.axis_label = 'Frequency (MHz)'\n",
        "h.yaxis.axis_label = 'Power (dB)'\n",
        "h.line(slot_f_axis * 1e-6, 20 * np.log10(np.absolute(slot2_X)))\n",
        "bpl.show(h)\n"
      ],
      "execution_count": 0,
      "outputs": []
    },
    {
      "cell_type": "markdown",
      "metadata": {
        "id": "Jhk0nmPOZECG",
        "colab_type": "text"
      },
      "source": [
        "Finally, we can get an idea of which users are transmitting by zooming into a single subband, given our knowledge of the transmit scheme parameters. We know that the bands have bandwidth `B`, and that the frequency interval `[fmin, fmax]` is divided up into `Nuser` of them. From here we can compute the center frequency for each of the `Nuser` bands in the interval, and view their content by looking `B/2` above and below. We do this below, also viewing some of the nearby bands."
      ]
    },
    {
      "cell_type": "code",
      "metadata": {
        "id": "u5tTIxUPM8Rk",
        "colab_type": "code",
        "colab": {}
      },
      "source": [
        "f_center_230 = 23.55 * 1e6\n",
        "subband230_mask = np.where((slot_f_axis >= f_center_230-4*B)\n",
        "                           & (slot_f_axis <= f_center_230+4*B))[0]\n",
        "\n",
        "bpl.output_notebook()\n",
        "h = bpl.figure(title=\"Frequency-domain signal x, during first slot (around 230th subband)\")\n",
        "h.xaxis.axis_label = 'Frequency (MHz)'\n",
        "h.yaxis.axis_label = 'Power (dB)'\n",
        "h.line(slot_f_axis[subband230_mask] * 1e-6,\n",
        "       20 * np.log10(np.absolute(slot1_X[subband230_mask])))\n",
        "bpl.show(h)"
      ],
      "execution_count": 0,
      "outputs": []
    },
    {
      "cell_type": "markdown",
      "metadata": {
        "id": "yLU-IZ49byiN",
        "colab_type": "text"
      },
      "source": [
        "We see that the 230th subband, centered at frequency 23.55 MHz, is occupied during the first transmission slot: its total frequency band is `[23.5, 23.6]` MHz, and although there is some leakage into the neighboring bands, the leakage is small (about 10 dB down from the transmission power, it appears from the figure)."
      ]
    },
    {
      "cell_type": "markdown",
      "metadata": {
        "id": "uhxEtHVgLRtX",
        "colab_type": "text"
      },
      "source": [
        "## Your Tasks\n",
        "\n",
        "Each level three header below contains a task you should complete. See the homework handout for additional details."
      ]
    },
    {
      "cell_type": "markdown",
      "metadata": {
        "id": "CdSXwRGpcm1k",
        "colab_type": "text"
      },
      "source": [
        "![alt text](https://)### Task 1: Evaluating Subband Occupancy Over Time\n",
        "\n",
        "The goal of this task is to generate a discrete analog of the time signal `x` that allows us to assess the subband-level sparsity of `x` during each time slot. Perform the following tasks:\n",
        "1. Given the frequency content of a single time slot of `x`, write code to output a vector with `Nuser` entries: the `i`-th entry is 1 if the corresponding subband is occupied during this time slot and 0 otherwise. For example, you can expect as input the fft of a single time slot as we generated for the first timeslot in one of the cells above.\n",
        "2. Apply the code you wrote in the previous step to estimate the length-`Nuser` vector of subband occupancies for each of the `Nslots` time slots contained in the signal `x`.\n",
        "\n",
        "For this part of the problem, your **output** should be the `Nuser`-by-`Nslots` matrix of subband occupancies for the signal `x`.\n",
        "\n",
        "**Hint**: You can use the fact that the SNR of the signal `x` is quite high to easily test whether a given subband is occupied or not: index it properly as we have done above (after computing the center frequencies of each subband), and apply something like a simple integrate-and-threshold test.\n"
      ]
    },
    {
      "cell_type": "code",
      "metadata": {
        "id": "G44rBze3V2ZM",
        "colab_type": "code",
        "colab": {}
      },
      "source": [
        "#Task 1: Generating the occupancy matrix\n",
        "\n",
        "sparSig = np.empty((Nuser, Nslots))\n",
        "\n",
        "'''\n",
        "Since each user occupies 1/Nuser of the total frequency band, just split DFT into Nuser frequency intervals.\n",
        "Base on the above graphs, usage in a user's band corresponds to there being a power spike above 0.\n",
        "'''\n",
        "\n",
        "for i in range(Nslots):\n",
        "  slot = x[i*slot_dur:(i+1)*slot_dur]\n",
        "  slot_x = np.fft.fftshift(np.fft.fft(slot))\n",
        "  power_x = 20 * np.log10(np.absolute(slot_x))\n",
        "  B2 = len(slot_x) // Nuser\n",
        "  for j in range(Nuser):\n",
        "        if np.max(power_x[j*B2 : (j+1)*B2]) > 0:\n",
        "          sparSig[j,i] = 1\n",
        "        else:\n",
        "          sparSig[j,i] = 0"
      ],
      "execution_count": 0,
      "outputs": []
    },
    {
      "cell_type": "markdown",
      "metadata": {
        "id": "NiR5VL3od_NM",
        "colab_type": "text"
      },
      "source": [
        "### Task 2: Basic Questions about the Sparsity-Over-Time of the Signal\n",
        "\n",
        "Provide answers to the following questions regarding interpretation of your subband occupancies signal generated in the previous task.\n",
        "1. What is the maximum density of the signal `x` within a single slot over time? Here, density means \"number of users transmitting simultaneously in a single time slot, divided by total number of users\", and can be related to the sparsity of your zero-one matrix from the previous task. What about the average density?\n",
        "2. Is the spectral occupancy of a single subband as a function of slot time a sparse signal? What about the spectral occupancy of the total `[fmin, fmax]` frequency band within a single time slot? Explain.\n"
      ]
    },
    {
      "cell_type": "code",
      "metadata": {
        "id": "HfRfzKYdjaGF",
        "colab_type": "code",
        "colab": {}
      },
      "source": [
        "#Question 1\n",
        "\n",
        "densitySig = np.sum(sparSig, axis = 0)/Nuser\n",
        "maxDensity = np.amax(densitySig)\n",
        "avgDensity = np.sum(densitySig)/Nslots\n",
        "print(\"max density: %s ; average density %s\" % (maxDensity, avgDensity))\n",
        "\n",
        "#Max density is .25, while average density is .2"
      ],
      "execution_count": 0,
      "outputs": []
    },
    {
      "cell_type": "code",
      "metadata": {
        "id": "JOJ9OhMMjbLW",
        "colab_type": "code",
        "colab": {}
      },
      "source": [
        "#Question 2\n",
        "#For each user's subband, form an Nslot-long vector where each entry is 1/0 depending on occupancy in that time slot.\n",
        "\n",
        "#bandOcc is sum, over time, of occupancy of that band\n",
        "bandOcc = np.sum(sparSig, axis = 1)\n",
        "print(\"max occ: %s ; average occ %s\" % (np.max(bandOcc), np.sum(bandOcc)/Nuser))\n",
        "\n",
        "#On average, a user is transmitting 3 out of the 16 time slots. \n",
        "\n",
        "bandOcc\n",
        "\n",
        "#Looking at number of occupied slots per band, look to be pretty sparse."
      ],
      "execution_count": 0,
      "outputs": []
    },
    {
      "cell_type": "code",
      "metadata": {
        "id": "dw2eBRQr93zn",
        "colab_type": "code",
        "colab": {}
      },
      "source": [
        "'''\n",
        "As for the spectral occupancy of the total spectrum within a time slot, this is proportional to density of the signal in part 1. Since we already saw that\n",
        "the density is generally around 20%, this means that the total spectrum occupancy is quite sparse per time slot.\n",
        "'''"
      ],
      "execution_count": 0,
      "outputs": []
    }
  ]
}